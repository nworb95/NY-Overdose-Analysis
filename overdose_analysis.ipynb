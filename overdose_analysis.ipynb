{
 "cells": [
  {
   "cell_type": "code",
   "execution_count": null,
   "metadata": {},
   "outputs": [],
   "source": [
    "%load_ext autoreload\n",
    "%autoreload 2\n",
    "import preliminary_analysis as pa\n",
    "\n",
    "\n",
    "# measuring deaths + related visits separately?\n",
    "# detail the info of each dataset\n",
    "# somehow keep them updated\n",
    "# need to write an offset + grab function because of built-in limit..."
   ]
  },
  {
   "cell_type": "code",
   "execution_count": null,
   "metadata": {},
   "outputs": [],
   "source": [
    "data = pa.offset_data(\"https://health.data.ny.gov/resource/rv8x-4fm3.json\")"
   ]
  },
  {
   "cell_type": "code",
   "execution_count": null,
   "metadata": {},
   "outputs": [],
   "source": [
    "overdose_data = pd.read_json(\"https://health.data.ny.gov/resource/sn5m-dv52.json\")\n",
    "# inpatient_data = pd.read_json(\"https://health.data.ny.gov/resource/rv8x-4fm3.json\")\n",
    "premature_death_data = pd.read_json(\"https://health.data.ny.gov/resource/acw9-uyeq.json\")\n",
    "dropout_data = pd.read_json(\"https://health.data.ny.gov/resource/7728-g3f6.json\")\n",
    "unemployment_data = pd.read_json(\"https://health.data.ny.gov/resource/8t6s-vqv5.json\")\n",
    "medicaid_chronic_conditions_data = pd.read_json(\"https://health.data.ny.gov/resource/du4z-hmkb.json\")\n",
    "unemployment_avg_duration_data = pd.read_json(\"https://data.ny.gov/resource/qkrk-6v78.json\")\n",
    "active_construction_data = pd.read_json(\"https://data.ny.gov/resource/ekci-x6aq.json\")\n",
    "career_centers_data = pd.read_json(\"https://data.ny.gov/resource/mef4-viwt.json\")\n",
    "low_income_housing_tax_credits = pd.read_json(\"https://data.ny.gov/resource/f6sn-r72s.json\")\n",
    "quarterly_employment_and_wages_data = pd.read_json(\"https://data.ny.gov/resource/shc7-xcbw.json\")\n",
    "places_of_work_data = pd.read_json(\"https://data.ny.gov/resource/6k74-dgkb.json\")\n",
    "long_term_industry_projections_data = pd.read_json(\"https://data.ny.gov/resource/b7d6-zygf.json\")\n",
    "short_term_industry_projections_data = pd.read_json(\"https://data.ny.gov/resource/mx4v-8962.json\")\n",
    "local_unemployment_data = pd.read_json(\"https://data.ny.gov/resource/5hyu-bdh8.json\")\n",
    "racial_labor_data = pd.read_json(\"https://data.ny.gov/resource/ykyj-hw45.json\")\n",
    "suny_locations_data = pd.read_json(\"https://data.ny.gov/resource/a5je-8vxp.json\")\n",
    "swm_facilities_data = pd.read_json(\"https://data.ny.gov/resource/dwpa-fswx.json\")\n",
    "mined_land_permits_data = pd.read_json(\"https://data.ny.gov/resource/iyf9-ajxg.json\")\n",
    "oil_and_gas_prod_data = pd.read_json(\"https://data.ny.gov/resource/agpz-6i9d.json\")\n",
    "union_comp_claims_data = pd.read_json(\"https://data.ny.gov/resource/jshw-gkgu.json\") \n",
    "county_mental_health_data = pd.read_json(\"https://data.ny.gov/resource/xgig-n5ch.json\")\n",
    "juvy_detention_data = pd.read_json(\"https://data.ny.gov/resource/ybg9-s6bm.json\")\n",
    "annual_foster_kids_data = pd.read_json(\"https://data.ny.gov/resource/hfc5-3hsu.json\")\n",
    "adult_arrest_data = pd.read_json(\"https://data.ny.gov/resource/rikd-mt35.json\")\n",
    "# Do I have county total population data?\n",
    "jail_population = pd.read_json(\"https://data.ny.gov/resource/nymx-kgkn.json\")\n",
    "parole_data = pd.read_json(\"https://data.ny.gov/resource/pmxm-gftz.json\")\n",
    "recidivism_data = pd.read_json(\"https://data.ny.gov/resource/y7pw-wrny.json\")"
   ]
  },
  {
   "cell_type": "code",
   "execution_count": null,
   "metadata": {},
   "outputs": [],
   "source": [
    "inpatient_data.describe()"
   ]
  },
  {
   "cell_type": "code",
   "execution_count": null,
   "metadata": {},
   "outputs": [],
   "source": []
  }
 ],
 "metadata": {
  "kernelspec": {
   "display_name": "day-one",
   "language": "python",
   "name": "day-one"
  },
  "language_info": {
   "codemirror_mode": {
    "name": "ipython",
    "version": 3
   },
   "file_extension": ".py",
   "mimetype": "text/x-python",
   "name": "python",
   "nbconvert_exporter": "python",
   "pygments_lexer": "ipython3",
   "version": "3.6.8"
  }
 },
 "nbformat": 4,
 "nbformat_minor": 2
}
